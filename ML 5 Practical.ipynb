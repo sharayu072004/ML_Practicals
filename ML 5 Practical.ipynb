{
  "nbformat": 4,
  "nbformat_minor": 0,
  "metadata": {
    "colab": {
      "provenance": []
    },
    "kernelspec": {
      "name": "python3",
      "display_name": "Python 3"
    },
    "language_info": {
      "name": "python"
    }
  },
  "cells": [
    {
      "cell_type": "code",
      "execution_count": null,
      "metadata": {
        "colab": {
          "base_uri": "https://localhost:8080/"
        },
        "id": "42EUQcVt77yb",
        "outputId": "76e5976f-0ffc-4b6f-faed-e424942fb3df"
      },
      "outputs": [
        {
          "output_type": "stream",
          "name": "stdout",
          "text": [
            "DataFrame successfully loaded!\n",
            "\n",
            "DataFrame:\n",
            "        v1                                                 v2 Unnamed: 2  \\\n",
            "0      ham  Go until jurong point, crazy.. Available only ...        NaN   \n",
            "1      ham                      Ok lar... Joking wif u oni...        NaN   \n",
            "2     spam  Free entry in 2 a wkly comp to win FA Cup fina...        NaN   \n",
            "3      ham  U dun say so early hor... U c already then say...        NaN   \n",
            "4      ham  Nah I don't think he goes to usf, he lives aro...        NaN   \n",
            "...    ...                                                ...        ...   \n",
            "5567  spam  This is the 2nd time we have tried 2 contact u...        NaN   \n",
            "5568   ham              Will Ì_ b going to esplanade fr home?        NaN   \n",
            "5569   ham  Pity, * was in mood for that. So...any other s...        NaN   \n",
            "5570   ham  The guy did some bitching but I acted like i'd...        NaN   \n",
            "5571   ham                         Rofl. Its true to its name        NaN   \n",
            "\n",
            "     Unnamed: 3 Unnamed: 4  \n",
            "0           NaN        NaN  \n",
            "1           NaN        NaN  \n",
            "2           NaN        NaN  \n",
            "3           NaN        NaN  \n",
            "4           NaN        NaN  \n",
            "...         ...        ...  \n",
            "5567        NaN        NaN  \n",
            "5568        NaN        NaN  \n",
            "5569        NaN        NaN  \n",
            "5570        NaN        NaN  \n",
            "5571        NaN        NaN  \n",
            "\n",
            "[5572 rows x 5 columns]\n",
            "\n",
            "DataFrame info:\n",
            "<class 'pandas.core.frame.DataFrame'>\n",
            "RangeIndex: 5572 entries, 0 to 5571\n",
            "Data columns (total 5 columns):\n",
            " #   Column      Non-Null Count  Dtype \n",
            "---  ------      --------------  ----- \n",
            " 0   v1          5572 non-null   object\n",
            " 1   v2          5572 non-null   object\n",
            " 2   Unnamed: 2  50 non-null     object\n",
            " 3   Unnamed: 3  12 non-null     object\n",
            " 4   Unnamed: 4  6 non-null      object\n",
            "dtypes: object(5)\n",
            "memory usage: 217.8+ KB\n",
            "None\n"
          ]
        }
      ],
      "source": [
        "import pandas as pd\n",
        "\n",
        "# Load the dataset\n",
        "try:\n",
        "    df = pd.read_csv('spam.csv', encoding='latin-1')\n",
        "    print(\"DataFrame successfully loaded!\")\n",
        "except FileNotFoundError:\n",
        "    print(\"Error: The file 'spam.csv' was not found.\")\n",
        "    df = None\n",
        "\n",
        "# Display the first few rows of the DataFrame and its information\n",
        "if df is not None:\n",
        "    print(\"\\nDataFrame:\")\n",
        "    print(df)\n",
        "    print(\"\\nDataFrame info:\")\n",
        "    print(df.info())\n"
      ]
    },
    {
      "cell_type": "code",
      "source": [
        "import numpy as np\n",
        "import pandas as pd\n",
        "import nltk\n",
        "from nltk.corpus import stopwords\n",
        "import string\n",
        "from sklearn.model_selection import train_test_split\n",
        "from sklearn.feature_extraction.text import CountVectorizer\n",
        "from sklearn.naive_bayes import MultinomialNB\n",
        "from sklearn.metrics import classification_report\n",
        "\n",
        "# Load the dataset\n",
        "df = pd.read_csv('spam.csv', encoding='latin-1')\n",
        "\n",
        "# Drop unnecessary columns\n",
        "df = df.drop(columns=['Unnamed: 2', 'Unnamed: 3', 'Unnamed: 4'], axis=1)\n",
        "\n",
        "# Rename columns for clarity\n",
        "df = df.rename(columns={'v1': 'label', 'v2': 'message'})\n",
        "\n",
        "# Check for any remaining missing values\n",
        "print(\"Missing values after dropping columns:\")\n",
        "print(df.isnull().sum())\n",
        "\n",
        "# Map 'spam' and 'ham' to numerical values (1 and 0)\n",
        "df['label'] = df['label'].map({'ham': 0, 'spam': 1})\n",
        "\n",
        "# Print the value counts to confirm the mapping\n",
        "print(\"\\nLabel value counts after mapping:\")\n",
        "print(df['label'].value_counts())"
      ],
      "metadata": {
        "colab": {
          "base_uri": "https://localhost:8080/"
        },
        "id": "F_1cFhlv8RSl",
        "outputId": "ae209e9f-3f5b-4527-f228-814bd416f71b"
      },
      "execution_count": null,
      "outputs": [
        {
          "output_type": "stream",
          "name": "stdout",
          "text": [
            "Missing values after dropping columns:\n",
            "label      0\n",
            "message    0\n",
            "dtype: int64\n",
            "\n",
            "Label value counts after mapping:\n",
            "label\n",
            "0    4825\n",
            "1     747\n",
            "Name: count, dtype: int64\n"
          ]
        }
      ]
    },
    {
      "cell_type": "code",
      "source": [
        "import numpy as np\n",
        "import pandas as pd\n",
        "from sklearn.model_selection import train_test_split\n",
        "from sklearn.feature_extraction.text import CountVectorizer\n",
        "from sklearn.naive_bayes import MultinomialNB\n",
        "from sklearn.metrics import classification_report\n",
        "\n",
        "# Load the dataset\n",
        "df = pd.read_csv('spam.csv', encoding='latin-1')\n",
        "\n",
        "# Data cleaning and preparation\n",
        "df = df.drop(columns=['Unnamed: 2', 'Unnamed: 3', 'Unnamed: 4'], axis=1)\n",
        "df = df.rename(columns={'v1': 'label', 'v2': 'message'})\n",
        "df['label'] = df['label'].map({'ham': 0, 'spam': 1})\n",
        "\n",
        "# Split the data into training and testing sets\n",
        "X_train, X_test, y_train, y_test = train_test_split(df['message'], df['label'], test_size=0.3, random_state=101)\n",
        "\n",
        "# Convert text to a matrix of token counts, removing common English stopwords\n",
        "count_vectorizer = CountVectorizer(stop_words='english')\n",
        "X_train_counts = count_vectorizer.fit_transform(X_train)\n",
        "X_test_counts = count_vectorizer.transform(X_test)\n",
        "\n",
        "# Create and train the Naive Bayes model\n",
        "spam_detect_model = MultinomialNB()\n",
        "spam_detect_model.fit(X_train_counts, y_train)\n",
        "\n",
        "# Evaluate model performance on the test set\n",
        "predictions = spam_detect_model.predict(X_test_counts)\n",
        "print(\"Classification Report:\")\n",
        "print(classification_report(y_test, predictions))\n",
        "\n",
        "# --- Prediction on a new message ---\n",
        "new_message = \"Free entry in a weekly competition to win FA Cup final tickets! Text FA to 87121.\"\n",
        "\n",
        "print(\"Message to be predicted:\",new_message)\n",
        "\n",
        "# Vectorize the new message using the existing CountVectorizer\n",
        "vectorized_message = count_vectorizer.transform([new_message])\n",
        "\n",
        "# Predict the class (spam or ham) using the trained model\n",
        "prediction = spam_detect_model.predict(vectorized_message)\n",
        "\n",
        "# Display the final prediction\n",
        "print(\"\\n--- Result ---\")\n",
        "if prediction[0] == 1:\n",
        "    print(f\"The model predicts that this message is: 'SPAM'\")\n",
        "else:\n",
        "    print(f\"The model predicts that this message is: 'HAM'\")"
      ],
      "metadata": {
        "colab": {
          "base_uri": "https://localhost:8080/"
        },
        "id": "cJCzKO9p_ngz",
        "outputId": "a831bb68-41c1-4df8-ab69-3f161cc056c6"
      },
      "execution_count": null,
      "outputs": [
        {
          "output_type": "stream",
          "name": "stdout",
          "text": [
            "Classification Report:\n",
            "              precision    recall  f1-score   support\n",
            "\n",
            "           0       0.99      0.99      0.99      1464\n",
            "           1       0.94      0.93      0.94       208\n",
            "\n",
            "    accuracy                           0.98      1672\n",
            "   macro avg       0.97      0.96      0.96      1672\n",
            "weighted avg       0.98      0.98      0.98      1672\n",
            "\n",
            "Message to be predicted: Free entry in a weekly competition to win FA Cup final tickets! Text FA to 87121.\n",
            "\n",
            "--- Result ---\n",
            "The model predicts that this message is: 'SPAM'\n"
          ]
        }
      ]
    },
    {
      "cell_type": "code",
      "source": [],
      "metadata": {
        "id": "NEo2gIYHC9aB"
      },
      "execution_count": null,
      "outputs": []
    }
  ]
}